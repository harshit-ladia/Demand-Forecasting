{
 "cells": [
  {
   "cell_type": "code",
   "execution_count": null,
   "metadata": {},
   "outputs": [],
   "source": [
    "# Fetching the tables from the Azure Sql Server using JDBC driver\n",
    "driver = \"com.microsoft.sqlserver.jdbc.SQLServerDriver\"\n",
    "url = \"jdbc:sqlserver://<your_server>.database.windows.net:1433;database=<your_database>\"\n",
    "table = \"dbo.train\"\n",
    "table1= \"dbo.store\"\n",
    "table2= \"dbo.test\"\n",
    "user = \"<user>@<server>\"\n",
    "password = \"<password>\"\n",
    "train = spark.read.format(\"jdbc\").option(\"driver\", driver).option(\"url\", url).option(\"dbtable\", table).option(\"user\", user).option(\"password\", password).load()\n",
    "store = spark.read.format(\"jdbc\").option(\"driver\", driver).option(\"url\", url).option(\"dbtable\", table1).option(\"user\", user).option(\"password\", password).load()\n",
    "#test1 = spark.read.format(\"jdbc\").option(\"driver\", driver).option(\"url\", url).option(\"dbtable\", table2).option(\"user\", user).option(\"password\", password).load()"
   ]
  },
  {
   "cell_type": "code",
   "execution_count": null,
   "metadata": {},
   "outputs": [],
   "source": [
    "# libraries required\n",
    "import numpy as np\n",
    "import pandas as pd\n",
    "from pyspark.sql.types import IntegerType,FloatType\n",
    "from pyspark.ml.feature import StringIndexer,VectorAssembler\n",
    "from pyspark.ml.regression import LinearRegression, LinearRegressionSummary\n",
    "from pyspark.mllib.regression import LabeledPoint, LinearRegressionWithSGD\n",
    "from pyspark.mllib.evaluation import RegressionMetrics\n",
    "import os"
   ]
  },
  {
   "cell_type": "code",
   "execution_count": null,
   "metadata": {},
   "outputs": [],
   "source": [
    "store.registerTempTable('store')\n",
    "query = sqlContext.sql('SELECT percentile_approx(CompetitionDistance, 0.5) as out FROM store')\n",
    "val1 = query.collect()[0][0]\n",
    "test1 = test1.na.fill({'Open': 0})\n",
    "store = store.na.fill({'CompetitionDistance': val1,\n",
    "                       'CompetitionOpenSinceMonth': 0,\n",
    "                       'CompetitionOpenSinceYear':0,\n",
    "                       'Promo2SinceWeek':0,\n",
    "                       'Promo2SinceYear':0,\n",
    "                       'PromoInterval':0})"
   ]
  },
  {
   "cell_type": "code",
   "execution_count": null,
   "metadata": {},
   "outputs": [],
   "source": [
    "mereged_train_df = train.join(store, on=['Store'], how='inner')\n",
    "mereged_test_df = test1.join(store, on=['Store'], how='inner')"
   ]
  },
  {
   "cell_type": "code",
   "execution_count": null,
   "metadata": {},
   "outputs": [],
   "source": [
    "mereged_train_df.registerTempTable('train')\n",
    "mereged_train_df = sqlContext.sql('select *,day(Date) as Day, month(Date) as Month, year(Date) as Year from train')\n",
    "mereged_test_df.registerTempTable('test1')\n",
    "mereged_test_df = sqlContext.sql('select *,day(Date) as Day, month(Date) as Month, year(Date) as Year from test1')\n",
    "\n",
    "mereged_train_df1= mereged_train_df.toPandas()\n",
    "mereged_test_df1=mereged_test_df.toPandas()"
   ]
  },
  {
   "cell_type": "code",
   "execution_count": null,
   "metadata": {},
   "outputs": [],
   "source": [
    "# As we are using LinearRegression\n",
    "mappings = {'0':0, 'a':1, 'b':2, 'c':3, 'd':4}\n",
    "mereged_train_df1[\"StoreType\"] = mereged_train_df1[\"StoreType\"].map(mappings)\n",
    "mereged_train_df1[\"Assortment\"] = mereged_train_df1[\"Assortment\"].map(mappings)\n",
    "mereged_train_df1[\"StateHoliday\"].loc[mereged_train_df1[\"StateHoliday\"] == 0] = \"0\"\n",
    "mereged_train_df1[\"StateHoliday\"] = mereged_train_df1[\"StateHoliday\"].map(mappings)\n",
    "mereged_test_df1[\"StoreType\"] = mereged_test_df1[\"StoreType\"].map(mappings)\n",
    "mereged_test_df1[\"Assortment\"] = mereged_test_df1[\"Assortment\"].map(mappings)\n",
    "mereged_test_df1[\"StateHoliday\"].loc[mereged_test_df1[\"StateHoliday\"] == 0] = \"0\"\n",
    "mereged_test_df1[\"StateHoliday\"] = mereged_test_df1[\"StateHoliday\"].map(mappings)\n",
    "\n",
    "mereged_train_df = spark.createDataFrame(mereged_train_df1)\n",
    "mereged_test_df = spark.createDataFrame(mereged_test_df1)"
   ]
  },
  {
   "cell_type": "code",
   "execution_count": null,
   "metadata": {},
   "outputs": [],
   "source": [
    "mereged_train_df = mereged_train_df.withColumn(\"Store\", mereged_train_df[\"Store\"].cast(IntegerType()))\n",
    "mereged_train_df = mereged_train_df.withColumn(\"Sales\", mereged_train_df[\"Sales\"].cast(IntegerType()))\n",
    "mereged_train_df = mereged_train_df.withColumn(\"Open\", mereged_train_df[\"Open\"].cast(IntegerType()))\n",
    "mereged_train_df = mereged_train_df.withColumn(\"Promo\", mereged_train_df[\"Promo\"].cast(IntegerType()))\n",
    "mereged_train_df = mereged_train_df.withColumn(\"SchoolHoliday\", mereged_train_df[\"SchoolHoliday\"].cast(IntegerType()))\n",
    "mereged_train_df = mereged_train_df.withColumn(\"CompetitionOpenSinceMonth\", mereged_train_df[\"CompetitionOpenSinceMonth\"].cast(IntegerType()))\n",
    "mereged_train_df = mereged_train_df.withColumn(\"Promo2\", mereged_train_df[\"Promo2\"].cast(IntegerType()))\n",
    "mereged_train_df = mereged_train_df.withColumn(\"Customers\", mereged_train_df[\"Customers\"].cast(IntegerType()))\n",
    "mereged_train_df = mereged_train_df.withColumn(\"Date\", mereged_train_df[\"Date\"].cast(IntegerType()))\n",
    "mereged_train_df = mereged_train_df.withColumn(\"Promo2SinceWeek\", mereged_train_df[\"Promo2SinceWeek\"].cast(IntegerType()))\n",
    "mereged_train_df = mereged_train_df.withColumn(\"Promo2SinceYear\", mereged_train_df[\"Promo2SinceYear\"].cast(IntegerType()))\n",
    "mereged_train_df = mereged_train_df.withColumn(\"PromoInterval\", mereged_train_df[\"PromoInterval\"].cast(IntegerType()))\n",
    "mereged_test_df = mereged_test_df.withColumn(\"Store\", mereged_test_df[\"Store\"].cast(IntegerType()))\n",
    "mereged_test_df = mereged_test_df.withColumn(\"Id\", mereged_test_df[\"Id\"].cast(IntegerType()))\n",
    "mereged_test_df = mereged_test_df.withColumn(\"Open\", mereged_test_df[\"Open\"].cast(IntegerType()))\n",
    "mereged_test_df = mereged_test_df.withColumn(\"Promo\", mereged_test_df[\"Promo\"].cast(IntegerType()))\n",
    "mereged_test_df = mereged_test_df.withColumn(\"SchoolHoliday\", mereged_test_df[\"SchoolHoliday\"].cast(IntegerType()))\n",
    "mereged_test_df = mereged_test_df.withColumn(\"CompetitionOpenSinceMonth\", mereged_test_df[\"CompetitionOpenSinceMonth\"].cast(IntegerType()))\n",
    "mereged_test_df = mereged_test_df.withColumn(\"Promo2\", mereged_test_df[\"Promo2\"].cast(IntegerType()))\n",
    "mereged_test_df = mereged_test_df.withColumn(\"Date\", mereged_test_df[\"Date\"].cast(IntegerType()))\n",
    "mereged_test_df = mereged_test_df.withColumn(\"Promo2SinceWeek\", mereged_test_df[\"Promo2SinceWeek\"].cast(IntegerType()))\n",
    "mereged_test_df = mereged_test_df.withColumn(\"Promo2SinceYear\", mereged_test_df[\"Promo2SinceYear\"].cast(IntegerType()))\n",
    "mereged_test_df = mereged_test_df.withColumn(\"PromoInterval\", mereged_test_df[\"PromoInterval\"].cast(IntegerType()))"
   ]
  },
  {
   "cell_type": "code",
   "execution_count": null,
   "metadata": {},
   "outputs": [],
   "source": [
    "mereged_train_df2 = mereged_train_df\n",
    "mereged_train_df2 = mereged_train_df2.filter(mereged_train_df2['Open'] !=0)\n",
    "\n",
    "featureassember= VectorAssembler(inputCols=['Store', 'DayOfWeek', 'Customers', 'Open', 'Promo', 'StateHoliday', 'SchoolHoliday', 'StoreType', 'Assortment', 'CompetitionDistance', 'CompetitionOpenSinceMonth', 'CompetitionOpenSinceYear', 'Promo2', 'Year', 'Month', 'Day'],outputCol=\"features\")\n",
    "my_data = featureassember.transform(mereged_train_df2)\n",
    "my_data= my_data.select(\"features\",\"Sales\")\n",
    "trn,tst = my_data.randomSplit([0.8, 0.2],seed=10)\n",
    "\n",
    "regressor =LinearRegression(featuresCol=\"features\",labelCol=\"Sales\")\n",
    "regressor=regressor.fit(my_data)\n",
    "my_test = regressor.transform(tst)\n",
    "my_test= my_test.select(\"features\",\"Sales\")"
   ]
  },
  {
   "cell_type": "code",
   "execution_count": null,
   "metadata": {},
   "outputs": [],
   "source": [
    "trainingSummary = regressor.summary\n",
    "print(\"RMSE: %f\" % trainingSummary.rootMeanSquaredError)\n",
    "print(\"r2: %f\" % trainingSummary.r2)\n",
    "regressor.coefficients"
   ]
  },
  {
   "cell_type": "code",
   "execution_count": null,
   "metadata": {},
   "outputs": [],
   "source": [
    "my_pred1.registerTempTable('my_pred1')\n",
    "my_pred11 = sqlContext.sql('select Id,prediction from my_pred1')\n",
    "my_pred11.write.mode(\"overwrite\").format(\"jdbc\")\n",
    "                                        .option(\"url\",\n",
    "                                        \"jdbc:sqlserver://<your_server>.database.windows.net:1433;database=<your_database>\")\n",
    "                                        .option(\"dbtable\", \"dbo.<your_table>\")\n",
    "                                        .option(\"user\", \"<user>@<server>\")\n",
    "                                        .option(\"password\", \"<password>\")\n",
    "                                        .save()"
   ]
  }
 ],
 "metadata": {
  "kernelspec": {
   "display_name": "Python 3",
   "language": "python",
   "name": "python3"
  },
  "language_info": {
   "codemirror_mode": {
    "name": "ipython",
    "version": 3
   },
   "file_extension": ".py",
   "mimetype": "text/x-python",
   "name": "python",
   "nbconvert_exporter": "python",
   "pygments_lexer": "ipython3",
   "version": "3.7.8"
  },
  "name": "linear",
  "notebookId": 1625444476436607
 },
 "nbformat": 4,
 "nbformat_minor": 1
}
